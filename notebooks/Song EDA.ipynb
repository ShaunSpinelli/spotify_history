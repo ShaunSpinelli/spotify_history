{
 "cells": [
  {
   "cell_type": "code",
   "execution_count": 17,
   "metadata": {},
   "outputs": [],
   "source": [
    "import pandas as pd"
   ]
  },
  {
   "cell_type": "code",
   "execution_count": 2,
   "metadata": {},
   "outputs": [],
   "source": [
    "df = pd.read_csv('Songs.csv')"
   ]
  },
  {
   "cell_type": "code",
   "execution_count": 4,
   "metadata": {},
   "outputs": [],
   "source": [
    "df.columns = ['user', 'id', 'name', 'time', 'song']"
   ]
  },
  {
   "cell_type": "code",
   "execution_count": 8,
   "metadata": {},
   "outputs": [],
   "source": [
    "df['time'] = pd.to_datetime(df['time'])"
   ]
  },
  {
   "cell_type": "code",
   "execution_count": 9,
   "metadata": {},
   "outputs": [],
   "source": [
    "df['weekday'] = df['time'].dt.dayofweek"
   ]
  },
  {
   "cell_type": "code",
   "execution_count": 42,
   "metadata": {},
   "outputs": [],
   "source": [
    "df.set_index('time', inplace=True)"
   ]
  },
  {
   "cell_type": "code",
   "execution_count": 51,
   "metadata": {},
   "outputs": [
    {
     "data": {
      "text/plain": [
       "time\n",
       "2021-02-10 22:03:56.054000+00:00    5iTSQtonLLwosVsveTmBtG\n",
       "2021-02-28 07:57:36.839000+00:00    3cg0dJfrQB66Qf2YthPb6G\n",
       "2021-02-27 07:30:55.061000+00:00    21EaUSWwMQInuWOvH2t4gI\n",
       "2021-02-18 21:34:43.620000+00:00    3KEJuhP0JYExbb23QeLua8\n",
       "2021-02-27 08:29:13.773000+00:00    3O8iomskyQTJRnqccdedo3\n",
       "                                             ...          \n",
       "2021-03-05 22:09:24.742000+00:00    24nhOvYX2gk3txBbMzXeUB\n",
       "2021-02-13 10:07:30.557000+00:00    2DBFAJgsqhYk5Z1AF7tAMH\n",
       "2021-01-29 06:25:15.414000+00:00    7GsEhMcupLqa2RzTFGXjIf\n",
       "2021-01-18 22:11:28.121000+00:00    0Tu6l5JSFRGC1tVEVttBsB\n",
       "2021-02-10 04:15:59.161000+00:00    6VNooTY5w9A9wg1YUsEbKB\n",
       "Name: song, Length: 100, dtype: object"
      ]
     },
     "execution_count": 51,
     "metadata": {},
     "output_type": "execute_result"
    }
   ],
   "source": [
    "df.song"
   ]
  },
  {
   "cell_type": "code",
   "execution_count": 63,
   "metadata": {},
   "outputs": [],
   "source": [
    "df[\"artist\"] = [s.split(\"-\")[-1].strip() for s in df.name] "
   ]
  },
  {
   "cell_type": "code",
   "execution_count": 66,
   "metadata": {
    "scrolled": false
   },
   "outputs": [],
   "source": [
    "artists_listend_count = df['artist'].value_counts().to_dict()"
   ]
  },
  {
   "cell_type": "code",
   "execution_count": 67,
   "metadata": {},
   "outputs": [],
   "source": [
    "songs_listend_count = df['name'].value_counts().to_dict()"
   ]
  },
  {
   "cell_type": "code",
   "execution_count": 73,
   "metadata": {
    "scrolled": false
   },
   "outputs": [],
   "source": [
    "week_songs = df.last('3D').weekday.value_counts().to_dict()"
   ]
  },
  {
   "cell_type": "code",
   "execution_count": 74,
   "metadata": {
    "scrolled": true
   },
   "outputs": [],
   "source": [
    "month_songs = df.last('1M').weekday.value_counts().to_dict()"
   ]
  },
  {
   "cell_type": "code",
   "execution_count": 49,
   "metadata": {
    "scrolled": true
   },
   "outputs": [
    {
     "data": {
      "text/plain": [
       "(80, 100)"
      ]
     },
     "execution_count": 49,
     "metadata": {},
     "output_type": "execute_result"
    }
   ],
   "source": [
    "len(week_songs), len(month_songs)\n",
    "\n"
   ]
  }
 ],
 "metadata": {
  "kernelspec": {
   "display_name": "Python 3",
   "language": "python",
   "name": "python3"
  },
  "language_info": {
   "codemirror_mode": {
    "name": "ipython",
    "version": 3
   },
   "file_extension": ".py",
   "mimetype": "text/x-python",
   "name": "python",
   "nbconvert_exporter": "python",
   "pygments_lexer": "ipython3",
   "version": "3.6.8"
  }
 },
 "nbformat": 4,
 "nbformat_minor": 2
}
