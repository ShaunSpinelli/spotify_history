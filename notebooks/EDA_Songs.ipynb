{
 "cells": [
  {
   "cell_type": "code",
   "execution_count": 76,
   "metadata": {},
   "outputs": [],
   "source": [
    "import pandas as pd\n",
    "import json\n",
    "import matplotlib.pyplot as plt"
   ]
  },
  {
   "cell_type": "code",
   "execution_count": 51,
   "metadata": {},
   "outputs": [],
   "source": [
    "def load_json(path:str) -> dict:\n",
    "    with open(path) as f:\n",
    "        data = json.load(f)\n",
    "    return data"
   ]
  },
  {
   "cell_type": "code",
   "execution_count": 52,
   "metadata": {},
   "outputs": [],
   "source": [
    "DATA = \"../data/shaun-songs.json\""
   ]
  },
  {
   "cell_type": "code",
   "execution_count": 53,
   "metadata": {},
   "outputs": [],
   "source": [
    "UTC_offset = 10"
   ]
  },
  {
   "cell_type": "code",
   "execution_count": 57,
   "metadata": {},
   "outputs": [],
   "source": [
    "def pre_process(data_path, UTC_offset):    \n",
    "    # load data\n",
    "    songsDic = load_json(data_path)\n",
    "    \n",
    "    # Create df\n",
    "    df = pd.DataFrame.from_dict(songsDic[\"Items\"])\n",
    "\n",
    "    # Add time information\n",
    "    df['time'] = pd.to_datetime(df['unix_time'], unit=\"s\") + pd.DateOffset(hours=UTC_offset)\n",
    "    df['month'] = df['time'].dt.month\n",
    "    df['weekday'] = df['time'].dt.dayofweek\n",
    "    df['day_of_year'] = df['time'].dt.dayofyear\n",
    "    df.set_index('time', inplace=True)\n",
    "    df['hour_of_day'] = df.index.hour\n",
    "\n",
    "    df[\"artist\"] = [s.split(\"-\")[-1].strip() for s in df.name]\n",
    "    # need to sort so pandas doesnt break \n",
    "    df.sort_values(by=\"time\",ascending=True, inplace=True)\n",
    "    \n",
    "    return df"
   ]
  },
  {
   "cell_type": "code",
   "execution_count": 58,
   "metadata": {},
   "outputs": [],
   "source": [
    "df = pre_process(DATA, UTC_offset)"
   ]
  },
  {
   "cell_type": "code",
   "execution_count": 59,
   "metadata": {
    "scrolled": false
   },
   "outputs": [
    {
     "data": {
      "text/html": [
       "<div>\n",
       "<style scoped>\n",
       "    .dataframe tbody tr th:only-of-type {\n",
       "        vertical-align: middle;\n",
       "    }\n",
       "\n",
       "    .dataframe tbody tr th {\n",
       "        vertical-align: top;\n",
       "    }\n",
       "\n",
       "    .dataframe thead th {\n",
       "        text-align: right;\n",
       "    }\n",
       "</style>\n",
       "<table border=\"1\" class=\"dataframe\">\n",
       "  <thead>\n",
       "    <tr style=\"text-align: right;\">\n",
       "      <th></th>\n",
       "      <th>user</th>\n",
       "      <th>songId</th>\n",
       "      <th>played_at</th>\n",
       "      <th>id</th>\n",
       "      <th>name</th>\n",
       "      <th>unix_time</th>\n",
       "      <th>month</th>\n",
       "      <th>weekday</th>\n",
       "      <th>day_of_year</th>\n",
       "      <th>hour_of_day</th>\n",
       "      <th>artist</th>\n",
       "    </tr>\n",
       "    <tr>\n",
       "      <th>time</th>\n",
       "      <th></th>\n",
       "      <th></th>\n",
       "      <th></th>\n",
       "      <th></th>\n",
       "      <th></th>\n",
       "      <th></th>\n",
       "      <th></th>\n",
       "      <th></th>\n",
       "      <th></th>\n",
       "      <th></th>\n",
       "      <th></th>\n",
       "    </tr>\n",
       "  </thead>\n",
       "  <tbody>\n",
       "    <tr>\n",
       "      <th>2021-11-13 10:16:09.493999958</th>\n",
       "      <td>1231014939</td>\n",
       "      <td>4YHhfMPAkYFiaIUcScCGnE</td>\n",
       "      <td>Sat Nov 13 00:16:09 2021</td>\n",
       "      <td>01297b0b-1598-422d-a388-254f18f88353</td>\n",
       "      <td>Rum &amp; Cola - GoodLuck</td>\n",
       "      <td>1.636763e+09</td>\n",
       "      <td>11</td>\n",
       "      <td>5</td>\n",
       "      <td>317</td>\n",
       "      <td>10</td>\n",
       "      <td>GoodLuck</td>\n",
       "    </tr>\n",
       "    <tr>\n",
       "      <th>2021-11-13 10:19:21.532000064</th>\n",
       "      <td>1231014939</td>\n",
       "      <td>1VRPk6jTWnmKGdXGWqC9WZ</td>\n",
       "      <td>Sat Nov 13 00:19:21 2021</td>\n",
       "      <td>43907417-88f5-40d7-93f5-ced1966095b7</td>\n",
       "      <td>No One Has To Know - Adam Kahati X Deerock Rem...</td>\n",
       "      <td>1.636763e+09</td>\n",
       "      <td>11</td>\n",
       "      <td>5</td>\n",
       "      <td>317</td>\n",
       "      <td>10</td>\n",
       "      <td>GoldFish</td>\n",
       "    </tr>\n",
       "  </tbody>\n",
       "</table>\n",
       "</div>"
      ],
      "text/plain": [
       "                                     user                  songId  \\\n",
       "time                                                                \n",
       "2021-11-13 10:16:09.493999958  1231014939  4YHhfMPAkYFiaIUcScCGnE   \n",
       "2021-11-13 10:19:21.532000064  1231014939  1VRPk6jTWnmKGdXGWqC9WZ   \n",
       "\n",
       "                                              played_at  \\\n",
       "time                                                      \n",
       "2021-11-13 10:16:09.493999958  Sat Nov 13 00:16:09 2021   \n",
       "2021-11-13 10:19:21.532000064  Sat Nov 13 00:19:21 2021   \n",
       "\n",
       "                                                                 id  \\\n",
       "time                                                                  \n",
       "2021-11-13 10:16:09.493999958  01297b0b-1598-422d-a388-254f18f88353   \n",
       "2021-11-13 10:19:21.532000064  43907417-88f5-40d7-93f5-ced1966095b7   \n",
       "\n",
       "                                                                            name  \\\n",
       "time                                                                               \n",
       "2021-11-13 10:16:09.493999958                              Rum & Cola - GoodLuck   \n",
       "2021-11-13 10:19:21.532000064  No One Has To Know - Adam Kahati X Deerock Rem...   \n",
       "\n",
       "                                  unix_time  month  weekday  day_of_year  \\\n",
       "time                                                                       \n",
       "2021-11-13 10:16:09.493999958  1.636763e+09     11        5          317   \n",
       "2021-11-13 10:19:21.532000064  1.636763e+09     11        5          317   \n",
       "\n",
       "                               hour_of_day    artist  \n",
       "time                                                  \n",
       "2021-11-13 10:16:09.493999958           10  GoodLuck  \n",
       "2021-11-13 10:19:21.532000064           10  GoldFish  "
      ]
     },
     "execution_count": 59,
     "metadata": {},
     "output_type": "execute_result"
    }
   ],
   "source": [
    "df.tail(n=2)"
   ]
  },
  {
   "cell_type": "markdown",
   "metadata": {},
   "source": [
    "# Artists Information "
   ]
  },
  {
   "cell_type": "code",
   "execution_count": 66,
   "metadata": {},
   "outputs": [],
   "source": [
    "artists_listend_count = df['artist'].value_counts()"
   ]
  },
  {
   "cell_type": "code",
   "execution_count": 75,
   "metadata": {},
   "outputs": [
    {
     "name": "stdout",
     "output_type": "stream",
     "text": [
      "Unique artists listend too 1377\n"
     ]
    }
   ],
   "source": [
    "print(f\"Unique artists listend too {len(artists_listend_count)}\")"
   ]
  },
  {
   "cell_type": "markdown",
   "metadata": {},
   "source": [
    "## Top 15 Artists\n",
    "Top 15 artists broken down by play count"
   ]
  },
  {
   "cell_type": "code",
   "execution_count": 67,
   "metadata": {
    "scrolled": true
   },
   "outputs": [
    {
     "data": {
      "text/plain": [
       "<AxesSubplot:ylabel='artist'>"
      ]
     },
     "execution_count": 67,
     "metadata": {},
     "output_type": "execute_result"
    },
    {
     "data": {
      "image/png": "[encoded data removed]",
      "text/plain": [
       "<Figure size 432x288 with 1 Axes>"
      ]
     },
     "metadata": {},
     "output_type": "display_data"
    }
   ],
   "source": [
    "# https://datascienceparichay.com/article/plot-pie-chart-matplotlib/\n",
    "\n",
    "# Need to group the less then 10 songs in a section or something\n",
    "\n",
    "artists_listend_count.head(n=15).plot(kind='pie')"
   ]
  },
  {
   "cell_type": "code",
   "execution_count": 90,
   "metadata": {},
   "outputs": [
    {
     "data": {
      "text/plain": [
       "Eric Church           392\n",
       "Chris Stapleton       249\n",
       "Black Coffee          177\n",
       "Zac Brown Band        155\n",
       "GoldFish              137\n",
       "Brothers Osborne      119\n",
       "Luke Bryan            105\n",
       "Tracy Chapman         104\n",
       "Jeremy Loops          100\n",
       "Bongeziwe Mabandla     99\n",
       "The Kiffness           96\n",
       "Ludovico Einaudi       94\n",
       "Colter Wall            90\n",
       "Paolo Nutini           77\n",
       "Hailey Whitters        69\n",
       "Name: artist, dtype: int64"
      ]
     },
     "execution_count": 90,
     "metadata": {},
     "output_type": "execute_result"
    }
   ],
   "source": [
    "artists_listend_count.head(n=15)"
   ]
  },
  {
   "cell_type": "markdown",
   "metadata": {},
   "source": [
    "## TODO Variety\n",
    "Need a plt to sure variaety of music.\n",
    "I'm guessing a long tail is variaty"
   ]
  },
  {
   "cell_type": "code",
   "execution_count": 70,
   "metadata": {
    "scrolled": true
   },
   "outputs": [
    {
     "data": {
      "text/plain": [
       "<AxesSubplot:>"
      ]
     },
     "execution_count": 70,
     "metadata": {},
     "output_type": "execute_result"
    },
    {
     "data": {
      "image/png": "[encoded data removed]",
      "text/plain": [
       "<Figure size 432x288 with 1 Axes>"
      ]
     },
     "metadata": {
      "needs_background": "light"
     },
     "output_type": "display_data"
    }
   ],
   "source": [
    "artists_listend_count.plot()"
   ]
  },
  {
   "cell_type": "code",
   "execution_count": 114,
   "metadata": {},
   "outputs": [
    {
     "data": {
      "text/plain": [
       "<AxesSubplot:ylabel='artist'>"
      ]
     },
     "execution_count": 114,
     "metadata": {},
     "output_type": "execute_result"
    },
    {
     "data": {
      "image/png": "[encoded data removed]",
      "text/plain": [
       "<Figure size 432x288 with 1 Axes>"
      ]
     },
     "metadata": {},
     "output_type": "display_data"
    }
   ],
   "source": [
    "n = 10\n",
    "df.last('1M').artist.value_counts().head(n=n).plot(kind='pie')"
   ]
  },
  {
   "cell_type": "code",
   "execution_count": 110,
   "metadata": {},
   "outputs": [],
   "source": [
    "def artist_listen_times_array(artist, key):\n",
    "    # {(day,hour): count}\n",
    "    daily_list_times = df[df.artist == artist].groupby([key])[\"hour_of_day\"].value_counts().to_dict()\n",
    "\n",
    "    listen_x = max(df[key])+1\n",
    "\n",
    "    day_time_tuples = [ele for key in daily_list_times for ele in key]\n",
    "\n",
    "    year_listening_times = np.zeros((24,listen_x))\n",
    "\n",
    "\n",
    "    for idx in range(0,len(day_time_tuples),2):\n",
    "        day, hour = day_time_tuples[idx: idx+2]\n",
    "        v = daily_list_times[(day,hour)]\n",
    "        year_listening_times[hour][day] = v\n",
    "        \n",
    "    return year_listening_times"
   ]
  },
  {
   "cell_type": "code",
   "execution_count": 111,
   "metadata": {},
   "outputs": [
    {
     "data": {
      "text/plain": [
       "<matplotlib.image.AxesImage at 0x7f5cc2a78048>"
      ]
     },
     "execution_count": 111,
     "metadata": {},
     "output_type": "execute_result"
    },
    {
     "data": {
      "image/png": "[encoded data removed]",
      "text/plain": [
       "<Figure size 432x288 with 1 Axes>"
      ]
     },
     "metadata": {
      "needs_background": "light"
     },
     "output_type": "display_data"
    }
   ],
   "source": [
    "w_listening_times = artist_listen_times_array('Luke Bryan','weekday')\n",
    "plt.imshow(w_listening_times)"
   ]
  },
  {
   "cell_type": "code",
   "execution_count": 113,
   "metadata": {},
   "outputs": [
    {
     "data": {
      "text/plain": [
       "Text(0.5, 1.0, 'Play Count over year')"
      ]
     },
     "execution_count": 113,
     "metadata": {},
     "output_type": "execute_result"
    },
    {
     "data": {
      "image/png": "[encoded data removed]",
      "text/plain": [
       "<Figure size 432x288 with 1 Axes>"
      ]
     },
     "metadata": {
      "needs_background": "light"
     },
     "output_type": "display_data"
    }
   ],
   "source": [
    "w_listening_times = artist_listen_times_array('GoldFish','month')\n",
    "total = np.sum(w_listening_times, axis=0)#.reshape((1,12))\n",
    "plt.plot(total)\n",
    "plt.title(\"Play Count over year\")"
   ]
  },
  {
   "cell_type": "markdown",
   "metadata": {},
   "source": [
    "## Top Artist Jammed on The Weekend"
   ]
  },
  {
   "cell_type": "code",
   "execution_count": null,
   "metadata": {},
   "outputs": [],
   "source": []
  },
  {
   "cell_type": "markdown",
   "metadata": {},
   "source": [
    "# Songs"
   ]
  },
  {
   "cell_type": "code",
   "execution_count": 80,
   "metadata": {},
   "outputs": [],
   "source": [
    "songs_listend_count = df['name'].value_counts()"
   ]
  },
  {
   "cell_type": "code",
   "execution_count": 81,
   "metadata": {},
   "outputs": [
    {
     "name": "stdout",
     "output_type": "stream",
     "text": [
      "Unique artists listend too 2633\n"
     ]
    }
   ],
   "source": [
    "print(f\"Unique artists listend too {len(songs_listend_count)}\")"
   ]
  },
  {
   "cell_type": "code",
   "execution_count": 86,
   "metadata": {
    "collapsed": true
   },
   "outputs": [
    {
     "data": {
      "text/plain": [
       "Aurora - Vocal Edit - David Scott                                  41\n",
       "Never Gonna Forget (with Diplo feat. Elderbrook) - Black Coffee    38\n",
       "That’s Damn Rock & Roll - Eric Church                              38\n",
       "Starlight - Jon Pardi                                              32\n",
       "Up Down (feat. Florida Georgia Line) - Morgan Wallen               31\n",
       "Sleeve - Nate Smith                                                28\n",
       "Glad To Be Here (feat. Brent Cobb) - Hailey Whitters               28\n",
       "A Change Is Gonna Come - Los Coast                                 26\n",
       "Hell Of A View - Eric Church                                       23\n",
       "Hatin' Somebody - Brothers Osborne                                 23\n",
       "Don't Cry - Morgan Wade                                            23\n",
       "Nomi - The Kiffness                                                23\n",
       "Know Some - Vandelux                                               23\n",
       "Uwrongo - Edit - Various Artists                                   23\n",
       "Don't Blink - Fancy Hagood                                         23\n",
       "Devil Always Made Me Think Twice - Chris Stapleton                 22\n",
       "Starting Over - Chris Stapleton                                    22\n",
       "Sleeping on the Blacktop - Colter Wall                             22\n",
       "One Kiss (with Dua Lipa) - Calvin Harris, Dua Lipa                 21\n",
       "Arkansas - Chris Stapleton                                         20\n",
       "Name: name, dtype: int64"
      ]
     },
     "execution_count": 86,
     "metadata": {},
     "output_type": "execute_result"
    }
   ],
   "source": [
    "songs_listend_count.head(n=20)"
   ]
  },
  {
   "cell_type": "markdown",
   "metadata": {},
   "source": [
    "song count and when it was played, maybe take the top 100 songs and get weekly play count "
   ]
  },
  {
   "cell_type": "markdown",
   "metadata": {},
   "source": [
    "song listened to weekly, monthly"
   ]
  },
  {
   "cell_type": "markdown",
   "metadata": {},
   "source": [
    "## Listening times during the day"
   ]
  },
  {
   "cell_type": "code",
   "execution_count": 77,
   "metadata": {},
   "outputs": [],
   "source": []
  },
  {
   "cell_type": "code",
   "execution_count": 78,
   "metadata": {},
   "outputs": [],
   "source": [
    "week_songs = df.last('7D').weekday.value_counts().to_dict()\n",
    "month_songs = df.last('1M').weekday.value_counts().to_dict()"
   ]
  },
  {
   "cell_type": "code",
   "execution_count": 79,
   "metadata": {},
   "outputs": [
    {
     "data": {
      "text/plain": [
       "<BarContainer object of 7 artists>"
      ]
     },
     "execution_count": 79,
     "metadata": {},
     "output_type": "execute_result"
    },
    {
     "data": {
      "image/png": "[encoded data removed]",
      "text/plain": [
       "<Figure size 432x288 with 1 Axes>"
      ]
     },
     "metadata": {
      "needs_background": "light"
     },
     "output_type": "display_data"
    }
   ],
   "source": [
    "days = month_songs.keys()\n",
    "song_count = month_songs.values()\n",
    "\n",
    "plt.bar(days, song_count)"
   ]
  },
  {
   "cell_type": "code",
   "execution_count": 23,
   "metadata": {
    "scrolled": true
   },
   "outputs": [],
   "source": [
    "day_listening_times = df[\"hour_of_day\"].value_counts().to_dict()"
   ]
  },
  {
   "cell_type": "code",
   "execution_count": 24,
   "metadata": {},
   "outputs": [],
   "source": [
    "song_count_hours = np.zeros(24)\n",
    "for k,v in day_listening_times.items():\n",
    "    song_count_hours[k] = v"
   ]
  },
  {
   "cell_type": "code",
   "execution_count": 25,
   "metadata": {},
   "outputs": [],
   "source": [
    "norm = np.linalg.norm(song_count_hours)"
   ]
  },
  {
   "cell_type": "code",
   "execution_count": 26,
   "metadata": {},
   "outputs": [],
   "source": [
    "normaled = song_count_hours/norm"
   ]
  },
  {
   "cell_type": "code",
   "execution_count": 27,
   "metadata": {
    "scrolled": true
   },
   "outputs": [
    {
     "data": {
      "text/plain": [
       "[<matplotlib.lines.Line2D at 0x7f5cc572c8d0>]"
      ]
     },
     "execution_count": 27,
     "metadata": {},
     "output_type": "execute_result"
    },
    {
     "data": {
      "image/png": "[encoded data removed]",
      "text/plain": [
       "<Figure size 432x288 with 1 Axes>"
      ]
     },
     "metadata": {
      "needs_background": "light"
     },
     "output_type": "display_data"
    }
   ],
   "source": [
    "plt.plot(range(24), normaled)"
   ]
  },
  {
   "cell_type": "code",
   "execution_count": 28,
   "metadata": {},
   "outputs": [],
   "source": [
    "def listen_times_array(key):\n",
    "    # {(day,hour): count}\n",
    "    daily_list_times = df.groupby([key])[\"hour_of_day\"].value_counts().to_dict()\n",
    "\n",
    "    listen_x = max(df[key])+1\n",
    "\n",
    "    day_time_tuples = [ele for key in daily_list_times for ele in key]\n",
    "\n",
    "    year_listening_times = np.zeros((24,listen_x))\n",
    "\n",
    "\n",
    "    for idx in range(0,len(day_time_tuples),2):\n",
    "        day, hour = day_time_tuples[idx: idx+2]\n",
    "        v = daily_list_times[(day,hour)]\n",
    "        year_listening_times[hour][day] = v\n",
    "        \n",
    "    return year_listening_times"
   ]
  },
  {
   "cell_type": "code",
   "execution_count": 29,
   "metadata": {},
   "outputs": [],
   "source": [
    "daily_listening_times = listen_times_array('day_of_year')\n",
    "plt.imshow(daily_listening_times)"
   ]
  },
  {
   "cell_type": "code",
   "execution_count": 31,
   "metadata": {},
   "outputs": [],
   "source": [
    "monthly_listening_times = listen_times_array('month')\n",
    "plt.imshow(monthly_listening_times)"
   ]
  },
  {
   "cell_type": "code",
   "execution_count": 32,
   "metadata": {},
   "outputs": [
    {
     "data": {
      "text/plain": [
       "<matplotlib.image.AxesImage at 0x7f5cc561af60>"
      ]
     },
     "execution_count": 32,
     "metadata": {},
     "output_type": "execute_result"
    },
    {
     "data": {
      "image/png": "[encoded data removed]",
      "text/plain": [
       "<Figure size 432x288 with 1 Axes>"
      ]
     },
     "metadata": {
      "needs_background": "light"
     },
     "output_type": "display_data"
    }
   ],
   "source": []
  },
  {
   "cell_type": "code",
   "execution_count": 33,
   "metadata": {},
   "outputs": [
    {
     "data": {
      "text/plain": [
       "<matplotlib.image.AxesImage at 0x7f5cc55f7da0>"
      ]
     },
     "execution_count": 33,
     "metadata": {},
     "output_type": "execute_result"
    },
    {
     "data": {
      "image/png": "[encoded data removed]",
      "text/plain": [
       "<Figure size 432x288 with 1 Axes>"
      ]
     },
     "metadata": {
      "needs_background": "light"
     },
     "output_type": "display_data"
    }
   ],
   "source": [
    "w_listening_times = listen_times_array('weekday')\n",
    "plt.imshow(w_listening_times)"
   ]
  },
  {
   "cell_type": "code",
   "execution_count": null,
   "metadata": {},
   "outputs": [],
   "source": []
  }
 ],
 "metadata": {
  "kernelspec": {
   "display_name": "Python 3",
   "language": "python",
   "name": "python3"
  },
  "language_info": {
   "codemirror_mode": {
    "name": "ipython",
    "version": 3
   },
   "file_extension": ".py",
   "mimetype": "text/x-python",
   "name": "python",
   "nbconvert_exporter": "python",
   "pygments_lexer": "ipython3",
   "version": "3.6.8"
  }
 },
 "nbformat": 4,
 "nbformat_minor": 5
}
